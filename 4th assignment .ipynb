{
 "cells": [
  {
   "cell_type": "code",
   "execution_count": 1,
   "id": "21374de9",
   "metadata": {},
   "outputs": [
    {
     "name": "stdout",
     "output_type": "stream",
     "text": [
      "Empty Array:\n",
      " [[7.00092127e+286 9.84643903e+095]]\n",
      "\n",
      "Full Array:\n",
      " [[9 9 9 9 9]\n",
      " [9 9 9 9 9]\n",
      " [9 9 9 9 9]\n",
      " [9 9 9 9 9]]\n"
     ]
    }
   ],
   "source": [
    "#1\n",
    "import numpy as np\n",
    "\n",
    "empty_array = np.empty((1, 2)) \n",
    "full_array = np.full((4, 5), 9)  \n",
    "\n",
    "print(\"Empty Array:\\n\",empty_array)\n",
    "print(\"\\nFull Array:\\n\",full_array)"
   ]
  },
  {
   "cell_type": "code",
   "execution_count": 2,
   "id": "00894bc6",
   "metadata": {},
   "outputs": [
    {
     "name": "stdout",
     "output_type": "stream",
     "text": [
      "1st input array:\n",
      " [[1 2 3]\n",
      " [4 5 6]\n",
      " [7 8 9]]\n",
      "2nt input array:\n",
      " [[ 2  3  4]\n",
      " [ 5  6  7]\n",
      " [ 8  9 10]]\n",
      "Resultant output array:\n",
      " [[  4   9  16]\n",
      " [ 25  36  49]\n",
      " [ 64  81 100]]\n"
     ]
    }
   ],
   "source": [
    "#12\n",
    "in_arr1 = np.array([[1,2,3],\n",
    "                    [4,5,6],\n",
    "                    [7,8,9]])\n",
    "in_arr2 = np.array([[2,3,4],\n",
    "                    [5,6,7],\n",
    "                    [8,9,10]])\n",
    "print(\"1st input array:\\n\",in_arr1)\n",
    "print(\"2nt input array:\\n\",in_arr2)\n",
    "out_arr = np.multiply(in_arr2,in_arr2)\n",
    "print(\"Resultant output array:\\n\",out_arr)"
   ]
  },
  {
   "cell_type": "code",
   "execution_count": 3,
   "id": "5139b249",
   "metadata": {},
   "outputs": [
    {
     "name": "stdout",
     "output_type": "stream",
     "text": [
      "Array 1:\n",
      " [[1 2]\n",
      " [3 4]]\n",
      "\n",
      "Array 2:\n",
      " [[5 6]\n",
      " [7 8]]\n",
      "\n",
      "Horizontally Stacked Array:\n",
      " [[1 2 5 6]\n",
      " [3 4 7 8]]\n"
     ]
    }
   ],
   "source": [
    "#10\n",
    "array1 = np.array([[1, 2],[3, 4]])\n",
    "array2 = np.array([[5, 6],[7, 8]])\n",
    "stacked_array = np.hstack((array1, array2))\n",
    "print(\"Array 1:\\n\",array1)\n",
    "print(\"\\nArray 2:\\n\",array2)\n",
    "print(\"\\nHorizontally Stacked Array:\\n\",stacked_array)"
   ]
  },
  {
   "cell_type": "code",
   "execution_count": 4,
   "id": "db0c1cab",
   "metadata": {},
   "outputs": [
    {
     "name": "stdout",
     "output_type": "stream",
     "text": [
      "Original Binary Array:\n",
      " [[1 0 0]\n",
      " [1 1 1]\n",
      " [0 0 0]]\n",
      "\n",
      "Boolean Array:\n",
      " [[ True False False]\n",
      " [ True  True  True]\n",
      " [False False False]]\n"
     ]
    }
   ],
   "source": [
    "#9\n",
    "a = np.array([[1, 0, 0],\n",
    "              [1, 1, 1],\n",
    "              [0, 0, 0]])\n",
    "\n",
    "boolean_array = (a == 1)\n",
    "\n",
    "print(\"Original Binary Array:\\n\",a)\n",
    "print(\"\\nBoolean Array:\\n\",boolean_array)"
   ]
  },
  {
   "cell_type": "code",
   "execution_count": 5,
   "id": "a026456e",
   "metadata": {},
   "outputs": [
    {
     "name": "stdout",
     "output_type": "stream",
     "text": [
      "Original Array:\n",
      " [[2.5  3.8  1.5 ]\n",
      " [4.7  2.9  1.56]]\n",
      "\n",
      "Reshaped Array:\n",
      " [[2.5  3.8  1.5  4.7  2.9  1.56]]\n"
     ]
    }
   ],
   "source": [
    "#8\n",
    "a = np.array([[2.5, 3.8, 1.5],\n",
    "              [4.7, 2.9, 1.56]])\n",
    "reshaped_array = a.reshape(1,6)\n",
    "print(\"Original Array:\\n\",a)\n",
    "print(\"\\nReshaped Array:\\n\",reshaped_array)"
   ]
  },
  {
   "cell_type": "code",
   "execution_count": 6,
   "id": "6657e636",
   "metadata": {},
   "outputs": [
    {
     "name": "stdout",
     "output_type": "stream",
     "text": [
      "Original Matrix:\n",
      " [[1 2 3]\n",
      " [4 5 6]\n",
      " [7 8 9]]\n",
      "\n",
      "Scalar:\n",
      " 2\n",
      "\n",
      "Result after Multiplication:\n",
      " [[ 2  4  6]\n",
      " [ 8 10 12]\n",
      " [14 16 18]]\n"
     ]
    }
   ],
   "source": [
    "#7\n",
    "matrix = np.array([[1, 2, 3],\n",
    "                   [4, 5, 6],\n",
    "                   [7, 8, 9]])\n",
    "\n",
    "scalar = 2\n",
    "result = matrix * scalar\n",
    "print(\"Original Matrix:\\n\",matrix)\n",
    "print(\"\\nScalar:\\n\",scalar)\n",
    "print(\"\\nResult after Multiplication:\\n\",result)"
   ]
  },
  {
   "cell_type": "code",
   "execution_count": 7,
   "id": "64808271",
   "metadata": {},
   "outputs": [
    {
     "name": "stdout",
     "output_type": "stream",
     "text": [
      "Array 1:\n",
      " [1 2 3]\n",
      "\n",
      "Array 2:\n",
      " [4 5 6]\n",
      "\n",
      "Result of Element-wise Addition:\n",
      " [5 7 9]\n"
     ]
    }
   ],
   "source": [
    "#5\n",
    "array1 = np.array([1, 2, 3])\n",
    "array2 = np.array([4, 5, 6])\n",
    "result = np.add(array1, array2)\n",
    "print(\"Array 1:\\n\",array1)\n",
    "print(\"\\nArray 2:\\n\",array2)\n",
    "print(\"\\nResult of Element-wise Addition:\\n\",result)"
   ]
  },
  {
   "cell_type": "code",
   "execution_count": 8,
   "id": "c2aebc31",
   "metadata": {},
   "outputs": [
    {
     "name": "stdout",
     "output_type": "stream",
     "text": [
      "Original array:\n",
      " [1 2 3 4 5 1 2 1 1 1]\n",
      "Most frequent value in the above array:\n",
      "1\n"
     ]
    }
   ],
   "source": [
    "#4\n",
    "arr = np.array([1,2,3,4,5,1,2,1,1,1])\n",
    "print(\"Original array:\\n\",arr)\n",
    "print(\"Most frequent value in the above array:\")\n",
    "print(np.bincount(arr).argmax())"
   ]
  },
  {
   "cell_type": "code",
   "execution_count": 9,
   "id": "96a95f0c",
   "metadata": {},
   "outputs": [
    {
     "name": "stdout",
     "output_type": "stream",
     "text": [
      "Given array:\n",
      " [[10.5 22.5  3.8]\n",
      " [41.   nan  nan]]\n",
      "\n",
      "Remove all rows containing non-numeric elements:\n",
      " [[10.5 22.5  3.8]]\n"
     ]
    }
   ],
   "source": [
    "#2\n",
    "arr = np.array([[10.5,22.5,3.8],[41,np.nan,np.nan]])\n",
    "print(\"Given array:\\n\",arr)\n",
    "print(\"\\nRemove all rows containing non-numeric elements:\\n\",arr[~np.isnan(arr).any(axis=1)])"
   ]
  },
  {
   "cell_type": "code",
   "execution_count": 10,
   "id": "10ba3919",
   "metadata": {},
   "outputs": [
    {
     "name": "stdout",
     "output_type": "stream",
     "text": [
      "4\n"
     ]
    }
   ],
   "source": [
    "#3\n",
    "arr = np.array([[2, 8, 9, 4], \n",
    "                [9, 4, 9, 4],\n",
    "                [4, 5, 9, 7],\n",
    "                [2, 9, 4, 3]])\n",
    "\n",
    "output = repr(arr).count(\"9, 4\")\n",
    "print(output)"
   ]
  },
  {
   "cell_type": "code",
   "execution_count": 11,
   "id": "45992160",
   "metadata": {},
   "outputs": [
    {
     "name": "stdout",
     "output_type": "stream",
     "text": [
      "(array([3, 4, 5], dtype=int64),)\n"
     ]
    }
   ],
   "source": [
    "#6\n",
    "arr = np.array([1, 2, 3, 4, 5, 6]) \n",
    "condition = arr > 3 \n",
    "indices = np.where(condition) \n",
    "print(indices)"
   ]
  },
  {
   "cell_type": "code",
   "execution_count": null,
   "id": "89bc3cfa",
   "metadata": {},
   "outputs": [],
   "source": []
  }
 ],
 "metadata": {
  "kernelspec": {
   "display_name": "Python 3 (ipykernel)",
   "language": "python",
   "name": "python3"
  },
  "language_info": {
   "codemirror_mode": {
    "name": "ipython",
    "version": 3
   },
   "file_extension": ".py",
   "mimetype": "text/x-python",
   "name": "python",
   "nbconvert_exporter": "python",
   "pygments_lexer": "ipython3",
   "version": "3.10.9"
  }
 },
 "nbformat": 4,
 "nbformat_minor": 5
}
